{
 "cells": [
  {
   "cell_type": "code",
   "execution_count": 31,
   "metadata": {},
   "outputs": [],
   "source": [
    "# Basic set-up\n",
    "p = 3       # Choose the prime p to calculate with\n",
    "f = 1       # The degree of the residual field extension\n",
    "e = p - 1   # The ramification index\n",
    "q = p^f\n",
    "\n",
    "# # Define a number field called L by adjoining a root t of the polynomial equation x^e = p:\n",
    "# L.<Pi> = NumberField(x^e - p)   \n",
    "# # Thus L = QQ(p^{1/e}). Other number fields can be defined similarly by adjoining roots of other polynomials.\n",
    "# o_L = L.ring_of_integers()\n",
    "o_L.<Pi> = Zp(3, prec = 10, type = 'capped-rel', print_mode = 'series').ext(x^2-3)\n",
    "L.<Pi> = Qp(3, prec = 10, type = 'capped-rel', print_mode = 'series').ext(x^2-3)\n",
    "\n",
    "# Do linear algebra over the ring of polynomials L[X] in one variable X with coefficients in the field L:\n",
    "L_X.<X> = L[]\n",
    "L_Y.<Y> = L[]"
   ]
  },
  {
   "cell_type": "code",
   "execution_count": 32,
   "metadata": {},
   "outputs": [],
   "source": [
    "# The subroutine Dmatrix calculates the following sparse matrix of coefficients.\n",
    "# Let D[k,n] be equal to k! times the coefficient of Y^k in the polynomial P_n(Y). \n",
    "# I compute this using the useful and easy recursion formula \n",
    "#      D[k,n] = \\sum_{r \\geq 0} \\pi^{-r} D[k-1,n-q^r] \n",
    "# that can be derived from Laurent’s Prop 1.20 of \"outline9\".\n",
    "# The algorithm is as follows: first make a zero matrix with S rows and columns (roughly, S is (q-1)*Size), \n",
    "# then quickly populate it one row at a time, using the recursion formula.\n",
    "\n",
    "def Dmatrix(S):\n",
    "    D = matrix(L, S,S)\n",
    "    D[0,0] = 1\n",
    "    for k in range(1,S):\n",
    "        for n in range(k,S):\n",
    "            r = 0\n",
    "            while n >= q^r:\n",
    "                D[k,n] = D[k,n] + D[k-1,n-q^r]/Pi^r  # the actual recursion \n",
    "                r = r+1\n",
    "    return D\n",
    "\n",
    "\n",
    "# \\Tau^{(m)} in Definition 10.10 of \"bounded21\":\n",
    "def TauMatrix(Size, m):\n",
    "    D = Dmatrix((q - 1) * (Size + 1))\n",
    "    R = matrix(L, Size,Size, lambda x,y: D[m + (q-1)*x, m + (q-1)*y])\n",
    "\n",
    "    # Define a diagonal matrix:\n",
    "    Diag = matrix(L_X, Size,Size, lambda x,y: kronecker_delta(x,y) * X^x)\n",
    "\n",
    "    # Compute the inverse of R:\n",
    "    S = R.inverse()    \n",
    "\n",
    "    # Compute the matrix Tau using Lemma 10.11 in \"bounded21\":\n",
    "    Tau = S * Diag * R\n",
    "    \n",
    "    return Tau\n",
    "\n",
    "\n",
    "def underscore(m, i):\n",
    "    return m + i*(q-1)\n",
    "\n",
    "\n",
    "# Compute the matrix ( \\sigma_{ij}(Y) ) using Proposition 10.6 of \"bounded21\":\n",
    "def sigmaMatrix(Size):\n",
    "    sigma = matrix(L_Y, Size,Size)\n",
    "    \n",
    "    for m in [0 .. q-2]:\n",
    "        Tau = TauMatrix((q-1)*(Size+1), m)\n",
    "        j = 0\n",
    "        while underscore(m, j) < Size:\n",
    "            i = 0\n",
    "            while underscore(m, i) < Size:\n",
    "                sigma[underscore(m, i), underscore(m, j)] = Y^m * Tau[i, j](Y^(q-1))\n",
    "                i += 1\n",
    "            j += 1\n",
    "    \n",
    "    return sigma"
   ]
  },
  {
   "cell_type": "code",
   "execution_count": 33,
   "metadata": {},
   "outputs": [
    {
     "data": {
      "text/plain": [
       "[                                                                                                                      1 + O(Pi^20)                                                                                                                                  0                                                                                                                                  0                                                                                                                                  0]\n",
       "[                                                                                                                                 0                                                                                                                   (1 + O(Pi^20))*Y                                                                                                                                  0 (2*Pi^-1 + 2*Pi + 2*Pi^3 + 2*Pi^5 + 2*Pi^7 + 2*Pi^9 + 2*Pi^11 + 2*Pi^13 + 2*Pi^15 + 2*Pi^17 + O(Pi^19))*Y^3 + (Pi^-1 + O(Pi^19))*Y]\n",
       "[                                                                                                                                 0                                                                                                                                  0                                                                                                                 (1 + O(Pi^20))*Y^2                                                                                                                                  0]\n",
       "[                                                                                                                                 0                                                                                                                                  0                                                                                                                                  0                                                                                                                 (1 + O(Pi^20))*Y^3]"
      ]
     },
     "execution_count": 33,
     "metadata": {},
     "output_type": "execute_result"
    }
   ],
   "source": [
    "sigmaMatrix(4)"
   ]
  },
  {
   "cell_type": "code",
   "execution_count": 34,
   "metadata": {},
   "outputs": [
    {
     "data": {
      "text/plain": [
       "[                                                                                                                                                                                                                                       0]\n",
       "[                                                                                                                                                                                                                                       0]\n",
       "[(2*Pi^-1 + 2*Pi + Pi^3 + 2*Pi^5 + 2*Pi^7 + 2*Pi^9 + 2*Pi^11 + 2*Pi^13 + 2*Pi^15 + O(Pi^17))*Y^8 + (2*Pi^-1 + Pi + Pi^3 + O(Pi^17))*Y^6 + (2*Pi^-1 + Pi + 2*Pi^3 + 2*Pi^5 + 2*Pi^7 + 2*Pi^9 + 2*Pi^11 + 2*Pi^13 + 2*Pi^15 + O(Pi^17))*Y^4]\n",
       "[                                                                                                                                                                                                                                       0]\n",
       "[                                                                                                    (2*Pi^2 + O(Pi^18))*Y^8 + (1 + 2*Pi^4 + 2*Pi^6 + 2*Pi^8 + 2*Pi^10 + 2*Pi^12 + 2*Pi^14 + 2*Pi^16 + O(Pi^18))*Y^6 + (2 + O(Pi^18))*Y^4]\n",
       "[                                                                                                                                                                                                                                       0]\n",
       "[                                                                                                                 (Pi + 2*Pi^3 + 2*Pi^5 + 2*Pi^7 + 2*Pi^9 + 2*Pi^11 + 2*Pi^13 + 2*Pi^15 + 2*Pi^17 + O(Pi^19))*Y^8 + (2*Pi + O(Pi^19))*Y^6]\n",
       "[                                                                                                                                                                                                                                       0]\n",
       "[                                                                                                                                                                                                                      (1 + O(Pi^20))*Y^8]"
      ]
     },
     "execution_count": 34,
     "metadata": {},
     "output_type": "execute_result"
    }
   ],
   "source": [
    "sigmaMatrix(9)[:, -1]"
   ]
  },
  {
   "cell_type": "code",
   "execution_count": 35,
   "metadata": {},
   "outputs": [],
   "source": [
    "# Construct a vwdwo sequence as per Proposition II.2.3 of Cahen-Chabert:\n",
    "def vwdwo(N):\n",
    "    u_ = [i for i in range(q)]  # only for L totally ramified\n",
    "    \n",
    "    def u(n):\n",
    "        return o_L(sum(\n",
    "            u_[n_i] * Pi^i\n",
    "            for i, n_i in enumerate(Integer(n).digits(base=q))\n",
    "        ))\n",
    "    \n",
    "    return [u(n) for n in [0 .. N]]\n",
    "\n",
    "\n",
    "# Compute a regular basis (f_n) as per Theorem II.2.7 of Cahen-Chabert:\n",
    "def regular_basis(N):\n",
    "    u = vwdwo(N)\n",
    "    \n",
    "    def f(n):\n",
    "        if n == 0:\n",
    "            return L_Y(1)\n",
    "        else:\n",
    "            return prod((Y - u[k]) / (u[n] - u[k]) for k in [0 .. n-1])\n",
    "    \n",
    "    return [f(n) for n in [0 .. N]]\n",
    "\n",
    "\n",
    "# Find b_i in o_L such that P = \\sum b_i f_i:\n",
    "def regular_basis_coeffs_for(P):\n",
    "    n = P.degree(Y)\n",
    "    fs = regular_basis(n)\n",
    "    u = vwdwo(n)\n",
    "    bs = [0] * (n + 1)\n",
    "    for i in [0 .. n]:\n",
    "        # Since f_i(u_i) = 1; f_j(u_i) = 0 for all j \\geq i:\n",
    "        bs[i] = P(u[i]) - sum(bs[j] * fs[j](u[i]) for j in [0 .. i-1])\n",
    "    return vector(o_L, bs)"
   ]
  },
  {
   "cell_type": "code",
   "execution_count": 36,
   "metadata": {},
   "outputs": [
    {
     "data": {
      "text/plain": [
       "(0, O(Pi^14), O(Pi^14), O(Pi^15), O(Pi^14), O(Pi^14), O(Pi^15), O(Pi^14), O(Pi^14), O(Pi^16), 1 + O(Pi^14))"
      ]
     },
     "execution_count": 36,
     "metadata": {},
     "output_type": "execute_result"
    }
   ],
   "source": [
    "regular_basis_coeffs_for(regular_basis(10)[-1])"
   ]
  },
  {
   "cell_type": "code",
   "execution_count": 37,
   "metadata": {},
   "outputs": [],
   "source": [
    "from time import process_time\n",
    "\n",
    "\n",
    "# Decorator to record execution time\n",
    "def time_this(func, name=None):\n",
    "    if name is None:\n",
    "        name = func.__name__\n",
    "    \n",
    "    \n",
    "    def wrap(*args, **kwargs):\n",
    "        _start = process_time()\n",
    "        result = func(*args, **kwargs)\n",
    "        _end   = process_time()\n",
    "        \n",
    "        print(f\"{_end-_start : .2f} sec: {name}\")\n",
    "        return result\n",
    "\n",
    "    return wrap\n"
   ]
  },
  {
   "cell_type": "code",
   "execution_count": 38,
   "metadata": {},
   "outputs": [],
   "source": [
    "def sigma_coeffs_for_basis(M):\n",
    "    m = M + 1\n",
    "    n = (M+2) * (M+1) / 2\n",
    "    B = Matrix(o_L, m, n)\n",
    "    \n",
    "    @time_this\n",
    "    def compute_sigma():\n",
    "        return sigmaMatrix(M + 1)\n",
    "    sigma = compute_sigma()\n",
    "\n",
    "    @time_this\n",
    "    def fill_B(B):\n",
    "        nb_col = 0\n",
    "        \n",
    "        for j in [0 .. M]:\n",
    "            for i in [0 .. j]:\n",
    "                bs = regular_basis_coeffs_for(sigma[i, j])\n",
    "                # Only fill in non-zero columns:\n",
    "                if any(b != 0 for b in bs):                \n",
    "                    for k, b in enumerate(bs):\n",
    "                        B[k, nb_col] = b  # Columns of B are the generators\n",
    "                    nb_col += 1\n",
    "        \n",
    "        return B[:, 0:nb_col]\n",
    "    B = fill_B(B)\n",
    "\n",
    "    @time_this\n",
    "    def get_SNF():\n",
    "        return B.smith_form() \n",
    "    A, P, Q = get_SNF()   # A = P B Q\n",
    "    \n",
    "    C = Matrix(L, A[:, 0:M+1])  # A = [C|0]\n",
    "    return ~P * A  # S_M = o_L . f (~P * A)    \n",
    "    return ~C * P  # nth column is (\\beta_{0,n}, ..., \\beta_{M,n})^T\n",
    "                   # where f_n = \\sum_{k=0}^M \\beta_{k,n} g_k\n",
    "                   # and g_0, ..., g_k is a basis for the o_L module"
   ]
  },
  {
   "cell_type": "code",
   "execution_count": 39,
   "metadata": {},
   "outputs": [
    {
     "name": "stdout",
     "output_type": "stream",
     "text": [
      " 0.00 sec: SNF M=1\n",
      " 0.00 sec: SNF M=2\n",
      " 0.00 sec: SNF M=3\n",
      " 0.01 sec: SNF M=4\n",
      " 0.01 sec: SNF M=5\n"
     ]
    },
    {
     "data": {
      "text/plain": [
       "[ 1 + O(Pi^20)             0             0             0             0             0             0             0             0             0]\n",
       "[            0  1 + O(Pi^20)             0             0             0             0             0             0             0             0]\n",
       "[            0             0  2 + O(Pi^20)             0             0             0             0             0             0             0]\n",
       "[            0             0             0  1 + O(Pi^20)             0             0             0             0             0             0]\n",
       "[            0             0             0             0  1 + O(Pi^20)             0             0             0             0             0]\n",
       "[            0             0             0             0             0 Pi + O(Pi^21)             0             0             0             0]"
      ]
     },
     "execution_count": 39,
     "metadata": {},
     "output_type": "execute_result"
    }
   ],
   "source": [
    "sigma_coeffs_for_basis_iter(5)"
   ]
  },
  {
   "cell_type": "code",
   "execution_count": 41,
   "metadata": {},
   "outputs": [
    {
     "name": "stdout",
     "output_type": "stream",
     "text": [
      " 0.00 sec: SNF M=1\n",
      " 0.00 sec: SNF M=2\n",
      " 0.00 sec: SNF M=3\n",
      " 0.01 sec: SNF M=4\n",
      " 0.01 sec: SNF M=5\n",
      " 0.02 sec: SNF M=6\n",
      " 0.02 sec: SNF M=7\n",
      " 0.03 sec: SNF M=8\n",
      " 0.04 sec: SNF M=9\n",
      " 0.05 sec: SNF M=10\n",
      " 0.06 sec: SNF M=11\n",
      " 0.08 sec: SNF M=12\n",
      " 0.10 sec: SNF M=13\n",
      " 0.12 sec: SNF M=14\n",
      " 0.15 sec: SNF M=15\n",
      " 0.17 sec: SNF M=16\n",
      " 0.21 sec: SNF M=17\n",
      " 0.25 sec: SNF M=18\n",
      " 0.29 sec: SNF M=19\n",
      " 0.35 sec: SNF M=20\n"
     ]
    },
    {
     "data": {
      "text/plain": [
       "21 x 111 dense matrix over 3-adic Eisenstein Extension Field in Pi defined by x^2 - 3 (use the '.str()' method to see the entries)"
      ]
     },
     "execution_count": 41,
     "metadata": {},
     "output_type": "execute_result"
    }
   ],
   "source": [
    "sigma_coeffs_for_basis_iter(20)"
   ]
  },
  {
   "cell_type": "code",
   "execution_count": null,
   "metadata": {},
   "outputs": [],
   "source": []
  }
 ],
 "metadata": {
  "kernelspec": {
   "display_name": "SageMath 9.1",
   "language": "sage",
   "name": "sagemath"
  },
  "language_info": {
   "codemirror_mode": {
    "name": "ipython",
    "version": 3
   },
   "file_extension": ".py",
   "mimetype": "text/x-python",
   "name": "python",
   "nbconvert_exporter": "python",
   "pygments_lexer": "ipython3",
   "version": "3.7.3"
  }
 },
 "nbformat": 4,
 "nbformat_minor": 2
}
